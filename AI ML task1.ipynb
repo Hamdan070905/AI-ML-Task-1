{
  "nbformat": 4,
  "nbformat_minor": 0,
  "metadata": {
    "colab": {
      "provenance": [],
      "authorship_tag": "ABX9TyOJKyIXb108idcU+F8bQl3k",
      "include_colab_link": true
    },
    "kernelspec": {
      "name": "python3",
      "display_name": "Python 3"
    },
    "language_info": {
      "name": "python"
    }
  },
  "cells": [
    {
      "cell_type": "markdown",
      "metadata": {
        "id": "view-in-github",
        "colab_type": "text"
      },
      "source": [
        "<a href=\"https://colab.research.google.com/github/Hamdan070905/AI-ML-Task-1/blob/main/AI%20ML%20task1.ipynb\" target=\"_parent\"><img src=\"https://colab.research.google.com/assets/colab-badge.svg\" alt=\"Open In Colab\"/></a>"
      ]
    },
    {
      "cell_type": "code",
      "execution_count": 2,
      "metadata": {
        "id": "RDVTXPO1P41U"
      },
      "outputs": [],
      "source": [
        "import pandas as pd\n",
        "import numpy as np\n",
        "import seaborn as sns\n",
        "import matplotlib.pyplot as plt\n",
        "from sklearn.preprocessing import StandardScaler, LabelEncoder"
      ]
    },
    {
      "cell_type": "code",
      "source": [
        "df = pd.read_csv('AI ML Task.csv')\n",
        "print(df.info())\n",
        "print(df.describe())"
      ],
      "metadata": {
        "colab": {
          "base_uri": "https://localhost:8080/"
        },
        "id": "kJVB1cSORoV3",
        "outputId": "55ed1b7f-796b-46aa-c278-3a915a3b2549"
      },
      "execution_count": 4,
      "outputs": [
        {
          "output_type": "stream",
          "name": "stdout",
          "text": [
            "<class 'pandas.core.frame.DataFrame'>\n",
            "RangeIndex: 891 entries, 0 to 890\n",
            "Data columns (total 12 columns):\n",
            " #   Column       Non-Null Count  Dtype  \n",
            "---  ------       --------------  -----  \n",
            " 0   PassengerId  891 non-null    int64  \n",
            " 1   Survived     891 non-null    int64  \n",
            " 2   Pclass       891 non-null    int64  \n",
            " 3   Name         891 non-null    object \n",
            " 4   Sex          891 non-null    object \n",
            " 5   Age          714 non-null    float64\n",
            " 6   SibSp        891 non-null    int64  \n",
            " 7   Parch        891 non-null    int64  \n",
            " 8   Ticket       891 non-null    object \n",
            " 9   Fare         891 non-null    float64\n",
            " 10  Cabin        204 non-null    object \n",
            " 11  Embarked     889 non-null    object \n",
            "dtypes: float64(2), int64(5), object(5)\n",
            "memory usage: 83.7+ KB\n",
            "None\n",
            "       PassengerId    Survived      Pclass         Age       SibSp  \\\n",
            "count   891.000000  891.000000  891.000000  714.000000  891.000000   \n",
            "mean    446.000000    0.383838    2.308642   29.699118    0.523008   \n",
            "std     257.353842    0.486592    0.836071   14.526497    1.102743   \n",
            "min       1.000000    0.000000    1.000000    0.420000    0.000000   \n",
            "25%     223.500000    0.000000    2.000000   20.125000    0.000000   \n",
            "50%     446.000000    0.000000    3.000000   28.000000    0.000000   \n",
            "75%     668.500000    1.000000    3.000000   38.000000    1.000000   \n",
            "max     891.000000    1.000000    3.000000   80.000000    8.000000   \n",
            "\n",
            "            Parch        Fare  \n",
            "count  891.000000  891.000000  \n",
            "mean     0.381594   32.204208  \n",
            "std      0.806057   49.693429  \n",
            "min      0.000000    0.000000  \n",
            "25%      0.000000    7.910400  \n",
            "50%      0.000000   14.454200  \n",
            "75%      0.000000   31.000000  \n",
            "max      6.000000  512.329200  \n"
          ]
        }
      ]
    },
    {
      "cell_type": "code",
      "source": [
        "df.fillna(df.mean(numeric_only=True),inplace=True)\n",
        "print(df)\n",
        "print(df.head())\n"
      ],
      "metadata": {
        "colab": {
          "base_uri": "https://localhost:8080/"
        },
        "id": "BspAL9TOXSR2",
        "outputId": "a7117f54-8ae2-4bfd-cf58-b168575b62a9"
      },
      "execution_count": 10,
      "outputs": [
        {
          "output_type": "stream",
          "name": "stdout",
          "text": [
            "     PassengerId  Survived  Pclass  \\\n",
            "0              1         0       3   \n",
            "1              2         1       1   \n",
            "2              3         1       3   \n",
            "3              4         1       1   \n",
            "4              5         0       3   \n",
            "..           ...       ...     ...   \n",
            "886          887         0       2   \n",
            "887          888         1       1   \n",
            "888          889         0       3   \n",
            "889          890         1       1   \n",
            "890          891         0       3   \n",
            "\n",
            "                                                  Name     Sex        Age  \\\n",
            "0                              Braund, Mr. Owen Harris    male  22.000000   \n",
            "1    Cumings, Mrs. John Bradley (Florence Briggs Th...  female  38.000000   \n",
            "2                               Heikkinen, Miss. Laina  female  26.000000   \n",
            "3         Futrelle, Mrs. Jacques Heath (Lily May Peel)  female  35.000000   \n",
            "4                             Allen, Mr. William Henry    male  35.000000   \n",
            "..                                                 ...     ...        ...   \n",
            "886                              Montvila, Rev. Juozas    male  27.000000   \n",
            "887                       Graham, Miss. Margaret Edith  female  19.000000   \n",
            "888           Johnston, Miss. Catherine Helen \"Carrie\"  female  29.699118   \n",
            "889                              Behr, Mr. Karl Howell    male  26.000000   \n",
            "890                                Dooley, Mr. Patrick    male  32.000000   \n",
            "\n",
            "     SibSp  Parch            Ticket     Fare Cabin Embarked  \n",
            "0        1      0         A/5 21171   7.2500   NaN        S  \n",
            "1        1      0          PC 17599  71.2833   C85        C  \n",
            "2        0      0  STON/O2. 3101282   7.9250   NaN        S  \n",
            "3        1      0            113803  53.1000  C123        S  \n",
            "4        0      0            373450   8.0500   NaN        S  \n",
            "..     ...    ...               ...      ...   ...      ...  \n",
            "886      0      0            211536  13.0000   NaN        S  \n",
            "887      0      0            112053  30.0000   B42        S  \n",
            "888      1      2        W./C. 6607  23.4500   NaN        S  \n",
            "889      0      0            111369  30.0000  C148        C  \n",
            "890      0      0            370376   7.7500   NaN        Q  \n",
            "\n",
            "[891 rows x 12 columns]\n",
            "   PassengerId  Survived  Pclass  \\\n",
            "0            1         0       3   \n",
            "1            2         1       1   \n",
            "2            3         1       3   \n",
            "3            4         1       1   \n",
            "4            5         0       3   \n",
            "\n",
            "                                                Name     Sex   Age  SibSp  \\\n",
            "0                            Braund, Mr. Owen Harris    male  22.0      1   \n",
            "1  Cumings, Mrs. John Bradley (Florence Briggs Th...  female  38.0      1   \n",
            "2                             Heikkinen, Miss. Laina  female  26.0      0   \n",
            "3       Futrelle, Mrs. Jacques Heath (Lily May Peel)  female  35.0      1   \n",
            "4                           Allen, Mr. William Henry    male  35.0      0   \n",
            "\n",
            "   Parch            Ticket     Fare Cabin Embarked  \n",
            "0      0         A/5 21171   7.2500   NaN        S  \n",
            "1      0          PC 17599  71.2833   C85        C  \n",
            "2      0  STON/O2. 3101282   7.9250   NaN        S  \n",
            "3      0            113803  53.1000  C123        S  \n",
            "4      0            373450   8.0500   NaN        S  \n"
          ]
        }
      ]
    },
    {
      "cell_type": "code",
      "source": [
        "for col in df.select_dtypes(include='object'):\n",
        "    le = LabelEncoder()\n",
        "    df[col] = le.fit_transform(df[col])\n",
        "\n",
        "print(df)\n"
      ],
      "metadata": {
        "colab": {
          "base_uri": "https://localhost:8080/"
        },
        "id": "wQzxBnHfX6H-",
        "outputId": "5f607b0d-b9a9-4832-99e0-5bc8cbe832a4"
      },
      "execution_count": 12,
      "outputs": [
        {
          "output_type": "stream",
          "name": "stdout",
          "text": [
            "     PassengerId  Survived  Pclass  Name  Sex        Age  SibSp  Parch  \\\n",
            "0              1         0       3   108    1  22.000000      1      0   \n",
            "1              2         1       1   190    0  38.000000      1      0   \n",
            "2              3         1       3   353    0  26.000000      0      0   \n",
            "3              4         1       1   272    0  35.000000      1      0   \n",
            "4              5         0       3    15    1  35.000000      0      0   \n",
            "..           ...       ...     ...   ...  ...        ...    ...    ...   \n",
            "886          887         0       2   548    1  27.000000      0      0   \n",
            "887          888         1       1   303    0  19.000000      0      0   \n",
            "888          889         0       3   413    0  29.699118      1      2   \n",
            "889          890         1       1    81    1  26.000000      0      0   \n",
            "890          891         0       3   220    1  32.000000      0      0   \n",
            "\n",
            "     Ticket     Fare  Cabin  Embarked  \n",
            "0       523   7.2500    147         2  \n",
            "1       596  71.2833     81         0  \n",
            "2       669   7.9250    147         2  \n",
            "3        49  53.1000     55         2  \n",
            "4       472   8.0500    147         2  \n",
            "..      ...      ...    ...       ...  \n",
            "886     101  13.0000    147         2  \n",
            "887      14  30.0000     30         2  \n",
            "888     675  23.4500    147         2  \n",
            "889       8  30.0000     60         0  \n",
            "890     466   7.7500    147         1  \n",
            "\n",
            "[891 rows x 12 columns]\n"
          ]
        }
      ]
    },
    {
      "cell_type": "code",
      "source": [
        "scaler = StandardScaler()\n",
        "numerical_cols = df.select_dtypes(include='number').columns\n",
        "df[numerical_cols] = scaler.fit_transform(df[numerical_cols])\n",
        "print(df)\n",
        "print(\"Means after scaling:\\n\", df[numerical_cols].mean())\n",
        "print(\"\\nStandard deviations after scaling:\\n\", df[numerical_cols].std())\n",
        "\n"
      ],
      "metadata": {
        "colab": {
          "base_uri": "https://localhost:8080/"
        },
        "id": "6C5h29ksbVDG",
        "outputId": "7303a6b0-7214-4696-9281-c49480ab72a4"
      },
      "execution_count": 20,
      "outputs": [
        {
          "output_type": "stream",
          "name": "stdout",
          "text": [
            "     PassengerId  Survived    Pclass      Name       Sex           Age  \\\n",
            "0      -1.730108 -0.789272  0.827377 -1.310217  0.737695 -5.924806e-01   \n",
            "1      -1.726220  1.266990 -1.566107 -0.991410 -1.355574  6.387890e-01   \n",
            "2      -1.722332  1.266990  0.827377 -0.357685 -1.355574 -2.846632e-01   \n",
            "3      -1.718444  1.266990 -1.566107 -0.672604 -1.355574  4.079260e-01   \n",
            "4      -1.714556 -0.789272  0.827377 -1.671790  0.737695  4.079260e-01   \n",
            "..           ...       ...       ...       ...       ...           ...   \n",
            "886     1.714556 -0.789272 -0.369365  0.400452  0.737695 -2.077088e-01   \n",
            "887     1.718444  1.266990 -1.566107 -0.552079 -1.355574 -8.233437e-01   \n",
            "888     1.722332 -0.789272  0.827377 -0.124412 -1.355574 -1.953793e-16   \n",
            "889     1.726220  1.266990 -1.566107 -1.415189  0.737695 -2.846632e-01   \n",
            "890     1.730108 -0.789272  0.827377 -0.874774  0.737695  1.770629e-01   \n",
            "\n",
            "        SibSp     Parch    Ticket      Fare     Cabin  Embarked  \n",
            "0    0.432793 -0.473674  0.918966 -0.502445  0.451502  0.581114  \n",
            "1    0.432793 -0.473674  1.282625  0.786845 -1.381627 -1.938460  \n",
            "2   -0.474545 -0.473674  1.646283 -0.488854  0.451502  0.581114  \n",
            "3    0.432793 -0.473674 -1.442322  0.420730 -2.103768  0.581114  \n",
            "4   -0.474545 -0.473674  0.664904 -0.486337  0.451502  0.581114  \n",
            "..        ...       ...       ...       ...       ...       ...  \n",
            "886 -0.474545 -0.473674 -1.183277 -0.386671  0.451502  0.581114  \n",
            "887 -0.474545 -0.473674 -1.616678 -0.044381 -2.798135  0.581114  \n",
            "888  0.432793  2.008933  1.676173 -0.176263  0.451502  0.581114  \n",
            "889 -0.474545 -0.473674 -1.646568 -0.044381 -1.964895 -1.938460  \n",
            "890 -0.474545 -0.473674  0.635014 -0.492378  0.451502 -0.678673  \n",
            "\n",
            "[891 rows x 12 columns]\n",
            "Means after scaling:\n",
            " PassengerId    0.000000e+00\n",
            "Survived      -3.987333e-18\n",
            "Pclass        -3.189866e-17\n",
            "Name           0.000000e+00\n",
            "Sex            7.974666e-18\n",
            "Age            3.987333e-18\n",
            "SibSp          1.594933e-17\n",
            "Parch         -5.283216e-17\n",
            "Ticket         7.974666e-18\n",
            "Fare           3.987333e-18\n",
            "Cabin          3.987333e-18\n",
            "Embarked      -3.538758e-17\n",
            "dtype: float64\n",
            "\n",
            "Standard deviations after scaling:\n",
            " PassengerId    1.000562\n",
            "Survived       1.000562\n",
            "Pclass         1.000562\n",
            "Name           1.000562\n",
            "Sex            1.000562\n",
            "Age            1.000562\n",
            "SibSp          1.000562\n",
            "Parch          1.000562\n",
            "Ticket         1.000562\n",
            "Fare           1.000562\n",
            "Cabin          1.000562\n",
            "Embarked       1.000562\n",
            "dtype: float64\n"
          ]
        }
      ]
    },
    {
      "cell_type": "code",
      "source": [
        "sns.boxplot(data=df)\n",
        "plt.xticks(rotation=90)\n",
        "plt.show()\n"
      ],
      "metadata": {
        "colab": {
          "base_uri": "https://localhost:8080/",
          "height": 500
        },
        "id": "cpnvmyFqd3_F",
        "outputId": "33e6f24c-0775-4ad0-a227-0879b93805b7"
      },
      "execution_count": 21,
      "outputs": [
        {
          "output_type": "display_data",
          "data": {
            "text/plain": [
              "<Figure size 640x480 with 1 Axes>"
            ],
            "image/png": "[encoded data removed]"
          },
          "metadata": {}
        }
      ]
    },
    {
      "cell_type": "code",
      "source": [
        "from scipy import stats\n",
        "df = df[(np.abs(stats.zscore(df[numerical_cols])) < 3).all(axis=1)]\n",
        "print(df)"
      ],
      "metadata": {
        "colab": {
          "base_uri": "https://localhost:8080/"
        },
        "id": "FO2t_0RIh5xe",
        "outputId": "ec53a5c0-be48-4fc6-8270-bc431b1ba52f"
      },
      "execution_count": 23,
      "outputs": [
        {
          "output_type": "stream",
          "name": "stdout",
          "text": [
            "     PassengerId  Survived    Pclass      Name       Sex       Age     SibSp  \\\n",
            "0      -1.730108 -0.789272  0.827377 -1.310217  0.737695 -0.592481  0.432793   \n",
            "1      -1.726220  1.266990 -1.566107 -0.991410 -1.355574  0.638789  0.432793   \n",
            "2      -1.722332  1.266990  0.827377 -0.357685 -1.355574 -0.284663 -0.474545   \n",
            "3      -1.718444  1.266990 -1.566107 -0.672604 -1.355574  0.407926  0.432793   \n",
            "4      -1.714556 -0.789272  0.827377 -1.671790  0.737695  0.407926 -0.474545   \n",
            "..           ...       ...       ...       ...       ...       ...       ...   \n",
            "883     1.702893 -0.789272 -0.369365 -1.492947  0.737695 -0.130754 -0.474545   \n",
            "884     1.706781 -0.789272  0.827377  1.352983  0.737695 -0.361618 -0.474545   \n",
            "886     1.714556 -0.789272 -0.369365  0.400452  0.737695 -0.207709 -0.474545   \n",
            "889     1.726220  1.266990 -1.566107 -1.415189  0.737695 -0.284663 -0.474545   \n",
            "890     1.730108 -0.789272  0.827377 -0.874774  0.737695  0.177063 -0.474545   \n",
            "\n",
            "        Parch    Ticket      Fare     Cabin  Embarked  \n",
            "0   -0.473674  0.918966 -0.502445  0.451502  0.581114  \n",
            "1   -0.473674  1.282625  0.786845 -1.381627 -1.938460  \n",
            "2   -0.473674  1.646283 -0.488854  0.451502  0.581114  \n",
            "3   -0.473674 -1.442322  0.420730 -2.103768  0.581114  \n",
            "4   -0.473674  0.664904 -0.486337  0.451502  0.581114  \n",
            "..        ...       ...       ...       ...       ...  \n",
            "883 -0.473674  1.128194 -0.437007  0.451502  0.581114  \n",
            "884 -0.473674  1.551632 -0.506472  0.451502  0.581114  \n",
            "886 -0.473674 -1.183277 -0.386671  0.451502  0.581114  \n",
            "889 -0.473674 -1.646568 -0.044381 -1.964895 -1.938460  \n",
            "890 -0.473674  0.635014 -0.492378  0.451502 -0.678673  \n",
            "\n",
            "[700 rows x 12 columns]\n"
          ]
        }
      ]
    }
  ]
}